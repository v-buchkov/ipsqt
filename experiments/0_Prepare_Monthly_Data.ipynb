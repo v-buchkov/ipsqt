{
 "cells": [
  {
   "cell_type": "code",
   "id": "739b5b1005f276e9",
   "metadata": {
    "ExecuteTime": {
     "end_time": "2025-06-26T16:16:57.967579Z",
     "start_time": "2025-06-26T16:16:57.955956Z"
    }
   },
   "source": [
    "from __future__ import annotations\n",
    "\n",
    "%load_ext autoreload\n",
    "%autoreload 2"
   ],
   "outputs": [
    {
     "name": "stdout",
     "output_type": "stream",
     "text": [
      "The autoreload extension is already loaded. To reload it, use:\n",
      "  %reload_ext autoreload\n"
     ]
    }
   ],
   "execution_count": 28
  },
  {
   "cell_type": "code",
   "id": "initial_id",
   "metadata": {
    "collapsed": true,
    "ExecuteTime": {
     "end_time": "2025-06-26T16:16:57.988924Z",
     "start_time": "2025-06-26T16:16:57.980617Z"
    }
   },
   "source": [
    "import numpy as np\n",
    "import pandas as pd\n",
    "\n",
    "from config.experiment_config import ExperimentConfig\n",
    "\n",
    "config = ExperimentConfig()"
   ],
   "outputs": [],
   "execution_count": 29
  },
  {
   "cell_type": "code",
   "id": "4dd2a403b8130dfb",
   "metadata": {
    "ExecuteTime": {
     "end_time": "2025-06-26T16:16:58.191409Z",
     "start_time": "2025-06-26T16:16:57.999850Z"
    }
   },
   "source": [
    "market_data = pd.read_excel(config.PATH_INPUT / config.INPUT_DATA_FILENAME)\n",
    "market_data = market_data.rename(columns={\"Date\": \"date\"})\n",
    "market_data[\"date\"] = pd.to_datetime(market_data[\"date\"])\n",
    "market_data = market_data.set_index(\"date\")\n",
    "market_data.head()"
   ],
   "outputs": [
    {
     "data": {
      "text/plain": [
       "                 EMP    PE    CAPE    DY    Rho   MOV     IR     RR    Y02  \\\n",
       "date                                                                         \n",
       "1988-04-10  0.022086  12.9  14.469  3.60 -0.083  118.0  6.02 -1.061  7.459   \n",
       "1988-04-17  0.022086  12.4  13.960  3.75 -0.078  121.0  5.88 -0.760  7.582   \n",
       "1988-04-24  0.022086  12.4  13.950  3.75 -0.051  123.0  5.83 -0.760  7.618   \n",
       "1988-05-01  0.021941  12.5  14.036  3.75 -0.054  124.2  5.98 -0.760  7.728   \n",
       "1988-05-08  0.022104  12.3  13.761  3.82 -0.079  118.4  6.29 -0.760  7.885   \n",
       "\n",
       "              Y10  ...       YSS       NYF     _AU   _DXY    _LCP     _TY  \\\n",
       "date               ...                                                      \n",
       "1988-04-10  8.484  ...  0.248874  6.896895  450.50  89.14  2473.7  97.990   \n",
       "1988-04-17  8.737  ...  0.326712  2.631749  456.25  88.31  2328.2  96.534   \n",
       "1988-04-24  8.773  ...  0.155089  2.631749  449.25  88.89  2201.4  96.470   \n",
       "1988-05-01  8.873  ...  0.145360  2.631749  449.00  89.16  2147.8  96.005   \n",
       "1988-05-08  8.990  ...  0.146644  2.631749  443.00  89.30  2200.9  95.446   \n",
       "\n",
       "             _OIL    _MKT      _VA      _GR  \n",
       "date                                         \n",
       "1988-04-10  16.88  419.06  823.219  462.551  \n",
       "1988-04-17  18.37  404.66  823.219  462.551  \n",
       "1988-04-24  18.30  404.71  823.219  462.551  \n",
       "1988-05-01  18.00  407.55  840.891  461.176  \n",
       "1988-05-08  17.74  401.29  840.891  461.176  \n",
       "\n",
       "[5 rows x 30 columns]"
      ],
      "text/html": [
       "<div>\n",
       "<style scoped>\n",
       "    .dataframe tbody tr th:only-of-type {\n",
       "        vertical-align: middle;\n",
       "    }\n",
       "\n",
       "    .dataframe tbody tr th {\n",
       "        vertical-align: top;\n",
       "    }\n",
       "\n",
       "    .dataframe thead th {\n",
       "        text-align: right;\n",
       "    }\n",
       "</style>\n",
       "<table border=\"1\" class=\"dataframe\">\n",
       "  <thead>\n",
       "    <tr style=\"text-align: right;\">\n",
       "      <th></th>\n",
       "      <th>EMP</th>\n",
       "      <th>PE</th>\n",
       "      <th>CAPE</th>\n",
       "      <th>DY</th>\n",
       "      <th>Rho</th>\n",
       "      <th>MOV</th>\n",
       "      <th>IR</th>\n",
       "      <th>RR</th>\n",
       "      <th>Y02</th>\n",
       "      <th>Y10</th>\n",
       "      <th>...</th>\n",
       "      <th>YSS</th>\n",
       "      <th>NYF</th>\n",
       "      <th>_AU</th>\n",
       "      <th>_DXY</th>\n",
       "      <th>_LCP</th>\n",
       "      <th>_TY</th>\n",
       "      <th>_OIL</th>\n",
       "      <th>_MKT</th>\n",
       "      <th>_VA</th>\n",
       "      <th>_GR</th>\n",
       "    </tr>\n",
       "    <tr>\n",
       "      <th>date</th>\n",
       "      <th></th>\n",
       "      <th></th>\n",
       "      <th></th>\n",
       "      <th></th>\n",
       "      <th></th>\n",
       "      <th></th>\n",
       "      <th></th>\n",
       "      <th></th>\n",
       "      <th></th>\n",
       "      <th></th>\n",
       "      <th></th>\n",
       "      <th></th>\n",
       "      <th></th>\n",
       "      <th></th>\n",
       "      <th></th>\n",
       "      <th></th>\n",
       "      <th></th>\n",
       "      <th></th>\n",
       "      <th></th>\n",
       "      <th></th>\n",
       "      <th></th>\n",
       "    </tr>\n",
       "  </thead>\n",
       "  <tbody>\n",
       "    <tr>\n",
       "      <th>1988-04-10</th>\n",
       "      <td>0.022086</td>\n",
       "      <td>12.9</td>\n",
       "      <td>14.469</td>\n",
       "      <td>3.60</td>\n",
       "      <td>-0.083</td>\n",
       "      <td>118.0</td>\n",
       "      <td>6.02</td>\n",
       "      <td>-1.061</td>\n",
       "      <td>7.459</td>\n",
       "      <td>8.484</td>\n",
       "      <td>...</td>\n",
       "      <td>0.248874</td>\n",
       "      <td>6.896895</td>\n",
       "      <td>450.50</td>\n",
       "      <td>89.14</td>\n",
       "      <td>2473.7</td>\n",
       "      <td>97.990</td>\n",
       "      <td>16.88</td>\n",
       "      <td>419.06</td>\n",
       "      <td>823.219</td>\n",
       "      <td>462.551</td>\n",
       "    </tr>\n",
       "    <tr>\n",
       "      <th>1988-04-17</th>\n",
       "      <td>0.022086</td>\n",
       "      <td>12.4</td>\n",
       "      <td>13.960</td>\n",
       "      <td>3.75</td>\n",
       "      <td>-0.078</td>\n",
       "      <td>121.0</td>\n",
       "      <td>5.88</td>\n",
       "      <td>-0.760</td>\n",
       "      <td>7.582</td>\n",
       "      <td>8.737</td>\n",
       "      <td>...</td>\n",
       "      <td>0.326712</td>\n",
       "      <td>2.631749</td>\n",
       "      <td>456.25</td>\n",
       "      <td>88.31</td>\n",
       "      <td>2328.2</td>\n",
       "      <td>96.534</td>\n",
       "      <td>18.37</td>\n",
       "      <td>404.66</td>\n",
       "      <td>823.219</td>\n",
       "      <td>462.551</td>\n",
       "    </tr>\n",
       "    <tr>\n",
       "      <th>1988-04-24</th>\n",
       "      <td>0.022086</td>\n",
       "      <td>12.4</td>\n",
       "      <td>13.950</td>\n",
       "      <td>3.75</td>\n",
       "      <td>-0.051</td>\n",
       "      <td>123.0</td>\n",
       "      <td>5.83</td>\n",
       "      <td>-0.760</td>\n",
       "      <td>7.618</td>\n",
       "      <td>8.773</td>\n",
       "      <td>...</td>\n",
       "      <td>0.155089</td>\n",
       "      <td>2.631749</td>\n",
       "      <td>449.25</td>\n",
       "      <td>88.89</td>\n",
       "      <td>2201.4</td>\n",
       "      <td>96.470</td>\n",
       "      <td>18.30</td>\n",
       "      <td>404.71</td>\n",
       "      <td>823.219</td>\n",
       "      <td>462.551</td>\n",
       "    </tr>\n",
       "    <tr>\n",
       "      <th>1988-05-01</th>\n",
       "      <td>0.021941</td>\n",
       "      <td>12.5</td>\n",
       "      <td>14.036</td>\n",
       "      <td>3.75</td>\n",
       "      <td>-0.054</td>\n",
       "      <td>124.2</td>\n",
       "      <td>5.98</td>\n",
       "      <td>-0.760</td>\n",
       "      <td>7.728</td>\n",
       "      <td>8.873</td>\n",
       "      <td>...</td>\n",
       "      <td>0.145360</td>\n",
       "      <td>2.631749</td>\n",
       "      <td>449.00</td>\n",
       "      <td>89.16</td>\n",
       "      <td>2147.8</td>\n",
       "      <td>96.005</td>\n",
       "      <td>18.00</td>\n",
       "      <td>407.55</td>\n",
       "      <td>840.891</td>\n",
       "      <td>461.176</td>\n",
       "    </tr>\n",
       "    <tr>\n",
       "      <th>1988-05-08</th>\n",
       "      <td>0.022104</td>\n",
       "      <td>12.3</td>\n",
       "      <td>13.761</td>\n",
       "      <td>3.82</td>\n",
       "      <td>-0.079</td>\n",
       "      <td>118.4</td>\n",
       "      <td>6.29</td>\n",
       "      <td>-0.760</td>\n",
       "      <td>7.885</td>\n",
       "      <td>8.990</td>\n",
       "      <td>...</td>\n",
       "      <td>0.146644</td>\n",
       "      <td>2.631749</td>\n",
       "      <td>443.00</td>\n",
       "      <td>89.30</td>\n",
       "      <td>2200.9</td>\n",
       "      <td>95.446</td>\n",
       "      <td>17.74</td>\n",
       "      <td>401.29</td>\n",
       "      <td>840.891</td>\n",
       "      <td>461.176</td>\n",
       "    </tr>\n",
       "  </tbody>\n",
       "</table>\n",
       "<p>5 rows × 30 columns</p>\n",
       "</div>"
      ]
     },
     "execution_count": 30,
     "metadata": {},
     "output_type": "execute_result"
    }
   ],
   "execution_count": 30
  },
  {
   "metadata": {
    "ExecuteTime": {
     "end_time": "2025-06-26T16:16:58.216261Z",
     "start_time": "2025-06-26T16:16:58.207527Z"
    }
   },
   "cell_type": "code",
   "source": "data = market_data.resample(\"ME\").last()",
   "id": "29af1bb352c38741",
   "outputs": [],
   "execution_count": 31
  },
  {
   "cell_type": "code",
   "id": "a0870afb1c7021b2",
   "metadata": {
    "ExecuteTime": {
     "end_time": "2025-06-26T16:16:58.261993Z",
     "start_time": "2025-06-26T16:16:58.248381Z"
    }
   },
   "source": [
    "from ipsqt.market_data.risk_free_conventions import accrue_risk_free_rate\n",
    "\n",
    "FEATURES = [\"CAPE\", \"STP\", \"M2\", \"_OIL\"]\n",
    "LOG = [\"CAPE\"]\n",
    "LOG_DIFF = [\"M2\"]\n",
    "DIFF = [\"STP\"]\n",
    "\n",
    "data = data[FEATURES + [\"IR\", \"_MKT\"]]\n",
    "data[\"MKT_Target\"] = data[\"_MKT\"].pct_change()\n",
    "data[\"MKT_Return\"] = data[\"_MKT\"].pct_change(1)\n",
    "data[\"lagged_MKT\"] = data[\"MKT_Target\"] # The features are shifted by .shift(1) in the backtester\n",
    "data[\"Daily_IR\"] = accrue_risk_free_rate(data[\"IR\"] / 100, 365)\n",
    "data[\"MKT_Factor\"] = data[\"MKT_Return\"] - data[\"Daily_IR\"]\n",
    "\n",
    "data = data.drop(columns=[\"_MKT\", \"IR\"])\n",
    "data[LOG] = np.log(data[LOG]).diff()\n",
    "data[LOG_DIFF] = np.log(data[LOG_DIFF]).diff()\n",
    "data[DIFF] = data[DIFF]\n",
    "data.dropna(axis=0, how=\"any\").to_csv(config.PATH_OUTPUT / config.DF_FILENAME)"
   ],
   "outputs": [
    {
     "name": "stderr",
     "output_type": "stream",
     "text": [
      "/Users/buchkovv/ipsqt/.venv/lib/python3.12/site-packages/pandas/core/internals/blocks.py:395: RuntimeWarning: invalid value encountered in log\n",
      "  result = func(self.values, **kwargs)\n"
     ]
    }
   ],
   "execution_count": 32
  },
  {
   "cell_type": "code",
   "id": "4bdeda0f53da69d3",
   "metadata": {
    "ExecuteTime": {
     "end_time": "2025-06-26T16:16:58.286548Z",
     "start_time": "2025-06-26T16:16:58.278507Z"
    }
   },
   "source": [
    "data.dropna(axis=0, how=\"any\")[\"MKT_Return\"].apply(lambda x: 1).to_csv(\n",
    "    config.PATH_OUTPUT / config.PRESENCE_MATRIX_FILENAME\n",
    ")"
   ],
   "outputs": [],
   "execution_count": 33
  },
  {
   "cell_type": "code",
   "id": "ed4a5ee2acf6ff89",
   "metadata": {
    "ExecuteTime": {
     "end_time": "2025-06-26T16:16:58.376497Z",
     "start_time": "2025-06-26T16:16:58.296087Z"
    }
   },
   "source": "data[\"MKT_Return\"].plot()",
   "outputs": [
    {
     "data": {
      "text/plain": [
       "<Axes: xlabel='date'>"
      ]
     },
     "execution_count": 34,
     "metadata": {},
     "output_type": "execute_result"
    },
    {
     "data": {
      "text/plain": [
       "<Figure size 640x480 with 1 Axes>"
      ],
      "image/png": "[encoded data removed]"
     },
     "metadata": {},
     "output_type": "display_data"
    }
   ],
   "execution_count": 34
  },
  {
   "metadata": {
    "ExecuteTime": {
     "end_time": "2025-06-26T16:16:58.397021Z",
     "start_time": "2025-06-26T16:16:58.389423Z"
    }
   },
   "cell_type": "code",
   "source": "data[\"MKT_Return\"].add(1).prod()",
   "id": "e5909dea8a6b8860",
   "outputs": [
    {
     "data": {
      "text/plain": [
       "np.float64(49.78597020088451)"
      ]
     },
     "execution_count": 35,
     "metadata": {},
     "output_type": "execute_result"
    }
   ],
   "execution_count": 35
  },
  {
   "metadata": {
    "ExecuteTime": {
     "end_time": "2025-06-26T16:16:58.402163Z",
     "start_time": "2025-06-26T16:16:58.400914Z"
    }
   },
   "cell_type": "code",
   "source": "",
   "id": "a7f439035099cd3e",
   "outputs": [],
   "execution_count": null
  }
 ],
 "metadata": {
  "kernelspec": {
   "display_name": "Python 3",
   "language": "python",
   "name": "python3"
  },
  "language_info": {
   "codemirror_mode": {
    "name": "ipython",
    "version": 2
   },
   "file_extension": ".py",
   "mimetype": "text/x-python",
   "name": "python",
   "nbconvert_exporter": "python",
   "pygments_lexer": "ipython2",
   "version": "2.7.6"
  }
 },
 "nbformat": 4,
 "nbformat_minor": 5
}
