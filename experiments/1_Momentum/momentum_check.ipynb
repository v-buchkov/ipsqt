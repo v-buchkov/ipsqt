{
 "cells": [
  {
   "cell_type": "code",
   "id": "initial_id",
   "metadata": {
    "collapsed": true,
    "ExecuteTime": {
     "end_time": "2025-06-23T08:44:38.693219Z",
     "start_time": "2025-06-23T08:44:38.679864Z"
    }
   },
   "source": [
    "from __future__ import annotations\n",
    "\n",
    "%load_ext autoreload\n",
    "%autoreload 2"
   ],
   "outputs": [],
   "execution_count": 1
  },
  {
   "metadata": {
    "ExecuteTime": {
     "end_time": "2025-06-23T08:45:14.804476Z",
     "start_time": "2025-06-23T08:45:14.795348Z"
    }
   },
   "cell_type": "code",
   "source": [
    "import numpy as np\n",
    "import pandas as pd\n",
    "\n",
    "from ipsqt.utils.data import read_csv\n",
    "\n",
    "from config.experiment_config import ExperimentConfig\n",
    "\n",
    "config = ExperimentConfig()"
   ],
   "id": "31f126d8973b797e",
   "outputs": [],
   "execution_count": 4
  },
  {
   "metadata": {
    "ExecuteTime": {
     "end_time": "2025-06-23T08:45:15.133994Z",
     "start_time": "2025-06-23T08:45:15.119346Z"
    }
   },
   "cell_type": "code",
   "source": "data = read_csv(config.PATH_OUTPUT, config.DF_FILENAME)",
   "id": "fbea6d95f66bce9e",
   "outputs": [],
   "execution_count": 5
  },
  {
   "metadata": {
    "ExecuteTime": {
     "end_time": "2025-06-23T08:48:02.998286Z",
     "start_time": "2025-06-23T08:48:02.987965Z"
    }
   },
   "cell_type": "code",
   "source": "data[\"prev_ret\"] = data[\"_MKT\"].shift(1)",
   "id": "fa0998bf5f4f7aeb",
   "outputs": [],
   "execution_count": 11
  },
  {
   "metadata": {
    "ExecuteTime": {
     "end_time": "2025-06-23T08:48:05.296865Z",
     "start_time": "2025-06-23T08:48:05.282900Z"
    }
   },
   "cell_type": "code",
   "source": "data",
   "id": "9a53b01dafb61ddb",
   "outputs": [
    {
     "data": {
      "text/plain": [
       "              CAPE    DY     ts        IR   _OIL      _MKT  prev_ret\n",
       "date                                                                \n",
       "1988-04-17  13.960  3.75  1.155  0.001143  18.37 -0.034363       NaN\n",
       "1988-04-24  13.950  3.75  1.155  0.001134  18.30  0.000124 -0.034363\n",
       "1988-05-01  14.036  3.75  1.145  0.001163  18.00  0.007017  0.000124\n",
       "1988-05-08  13.761  3.82  1.105  0.001223  17.74 -0.015360  0.007017\n",
       "1988-05-15  13.725  3.83  1.168  0.001202  17.49 -0.001719 -0.015360\n",
       "...            ...   ...    ...       ...    ...       ...       ...\n",
       "2024-04-07  32.330  1.38 -0.417  0.001043  87.69 -0.009351  0.005063\n",
       "2024-04-14  31.777  1.40 -0.447  0.001047  86.46 -0.016173 -0.009351\n",
       "2024-04-21  30.774  1.45 -0.425  0.001049  83.79 -0.030627 -0.016173\n",
       "2024-04-28  31.598  1.42 -0.397  0.001049  85.38  0.027770 -0.030627\n",
       "2024-05-05  31.762  1.42 -0.296  0.001047  79.65  0.006182  0.027770\n",
       "\n",
       "[1882 rows x 7 columns]"
      ],
      "text/html": [
       "<div>\n",
       "<style scoped>\n",
       "    .dataframe tbody tr th:only-of-type {\n",
       "        vertical-align: middle;\n",
       "    }\n",
       "\n",
       "    .dataframe tbody tr th {\n",
       "        vertical-align: top;\n",
       "    }\n",
       "\n",
       "    .dataframe thead th {\n",
       "        text-align: right;\n",
       "    }\n",
       "</style>\n",
       "<table border=\"1\" class=\"dataframe\">\n",
       "  <thead>\n",
       "    <tr style=\"text-align: right;\">\n",
       "      <th></th>\n",
       "      <th>CAPE</th>\n",
       "      <th>DY</th>\n",
       "      <th>ts</th>\n",
       "      <th>IR</th>\n",
       "      <th>_OIL</th>\n",
       "      <th>_MKT</th>\n",
       "      <th>prev_ret</th>\n",
       "    </tr>\n",
       "    <tr>\n",
       "      <th>date</th>\n",
       "      <th></th>\n",
       "      <th></th>\n",
       "      <th></th>\n",
       "      <th></th>\n",
       "      <th></th>\n",
       "      <th></th>\n",
       "      <th></th>\n",
       "    </tr>\n",
       "  </thead>\n",
       "  <tbody>\n",
       "    <tr>\n",
       "      <th>1988-04-17</th>\n",
       "      <td>13.960</td>\n",
       "      <td>3.75</td>\n",
       "      <td>1.155</td>\n",
       "      <td>0.001143</td>\n",
       "      <td>18.37</td>\n",
       "      <td>-0.034363</td>\n",
       "      <td>NaN</td>\n",
       "    </tr>\n",
       "    <tr>\n",
       "      <th>1988-04-24</th>\n",
       "      <td>13.950</td>\n",
       "      <td>3.75</td>\n",
       "      <td>1.155</td>\n",
       "      <td>0.001134</td>\n",
       "      <td>18.30</td>\n",
       "      <td>0.000124</td>\n",
       "      <td>-0.034363</td>\n",
       "    </tr>\n",
       "    <tr>\n",
       "      <th>1988-05-01</th>\n",
       "      <td>14.036</td>\n",
       "      <td>3.75</td>\n",
       "      <td>1.145</td>\n",
       "      <td>0.001163</td>\n",
       "      <td>18.00</td>\n",
       "      <td>0.007017</td>\n",
       "      <td>0.000124</td>\n",
       "    </tr>\n",
       "    <tr>\n",
       "      <th>1988-05-08</th>\n",
       "      <td>13.761</td>\n",
       "      <td>3.82</td>\n",
       "      <td>1.105</td>\n",
       "      <td>0.001223</td>\n",
       "      <td>17.74</td>\n",
       "      <td>-0.015360</td>\n",
       "      <td>0.007017</td>\n",
       "    </tr>\n",
       "    <tr>\n",
       "      <th>1988-05-15</th>\n",
       "      <td>13.725</td>\n",
       "      <td>3.83</td>\n",
       "      <td>1.168</td>\n",
       "      <td>0.001202</td>\n",
       "      <td>17.49</td>\n",
       "      <td>-0.001719</td>\n",
       "      <td>-0.015360</td>\n",
       "    </tr>\n",
       "    <tr>\n",
       "      <th>...</th>\n",
       "      <td>...</td>\n",
       "      <td>...</td>\n",
       "      <td>...</td>\n",
       "      <td>...</td>\n",
       "      <td>...</td>\n",
       "      <td>...</td>\n",
       "      <td>...</td>\n",
       "    </tr>\n",
       "    <tr>\n",
       "      <th>2024-04-07</th>\n",
       "      <td>32.330</td>\n",
       "      <td>1.38</td>\n",
       "      <td>-0.417</td>\n",
       "      <td>0.001043</td>\n",
       "      <td>87.69</td>\n",
       "      <td>-0.009351</td>\n",
       "      <td>0.005063</td>\n",
       "    </tr>\n",
       "    <tr>\n",
       "      <th>2024-04-14</th>\n",
       "      <td>31.777</td>\n",
       "      <td>1.40</td>\n",
       "      <td>-0.447</td>\n",
       "      <td>0.001047</td>\n",
       "      <td>86.46</td>\n",
       "      <td>-0.016173</td>\n",
       "      <td>-0.009351</td>\n",
       "    </tr>\n",
       "    <tr>\n",
       "      <th>2024-04-21</th>\n",
       "      <td>30.774</td>\n",
       "      <td>1.45</td>\n",
       "      <td>-0.425</td>\n",
       "      <td>0.001049</td>\n",
       "      <td>83.79</td>\n",
       "      <td>-0.030627</td>\n",
       "      <td>-0.016173</td>\n",
       "    </tr>\n",
       "    <tr>\n",
       "      <th>2024-04-28</th>\n",
       "      <td>31.598</td>\n",
       "      <td>1.42</td>\n",
       "      <td>-0.397</td>\n",
       "      <td>0.001049</td>\n",
       "      <td>85.38</td>\n",
       "      <td>0.027770</td>\n",
       "      <td>-0.030627</td>\n",
       "    </tr>\n",
       "    <tr>\n",
       "      <th>2024-05-05</th>\n",
       "      <td>31.762</td>\n",
       "      <td>1.42</td>\n",
       "      <td>-0.296</td>\n",
       "      <td>0.001047</td>\n",
       "      <td>79.65</td>\n",
       "      <td>0.006182</td>\n",
       "      <td>0.027770</td>\n",
       "    </tr>\n",
       "  </tbody>\n",
       "</table>\n",
       "<p>1882 rows × 7 columns</p>\n",
       "</div>"
      ]
     },
     "execution_count": 12,
     "metadata": {},
     "output_type": "execute_result"
    }
   ],
   "execution_count": 12
  },
  {
   "metadata": {
    "ExecuteTime": {
     "end_time": "2025-06-23T08:49:49.418208Z",
     "start_time": "2025-06-23T08:49:49.400063Z"
    }
   },
   "cell_type": "code",
   "source": [
    "def classify_momentum_reversal(row: pd.Series) -> str:\n",
    "    if np.sign(row[\"_MKT\"]) == np.sign(row[\"prev_ret\"]):\n",
    "        return \"momentum\"\n",
    "    else:\n",
    "        return \"reversal\"\n",
    "\n",
    "\n",
    "data[\"class\"] = data.apply(lambda row: classify_momentum_reversal(row), axis=1)"
   ],
   "id": "c80d3f469c5f66c8",
   "outputs": [],
   "execution_count": 13
  },
  {
   "metadata": {
    "ExecuteTime": {
     "end_time": "2025-06-23T08:49:52.972418Z",
     "start_time": "2025-06-23T08:49:52.965302Z"
    }
   },
   "cell_type": "code",
   "source": "data[\"class\"]",
   "id": "4e971b3b4459c469",
   "outputs": [
    {
     "data": {
      "text/plain": [
       "date\n",
       "1988-04-17    reversal\n",
       "1988-04-24    reversal\n",
       "1988-05-01    momentum\n",
       "1988-05-08    reversal\n",
       "1988-05-15    momentum\n",
       "                ...   \n",
       "2024-04-07    reversal\n",
       "2024-04-14    momentum\n",
       "2024-04-21    momentum\n",
       "2024-04-28    reversal\n",
       "2024-05-05    momentum\n",
       "Name: class, Length: 1882, dtype: object"
      ]
     },
     "execution_count": 14,
     "metadata": {},
     "output_type": "execute_result"
    }
   ],
   "execution_count": 14
  },
  {
   "metadata": {
    "ExecuteTime": {
     "end_time": "2025-06-23T09:17:15.762804Z",
     "start_time": "2025-06-23T09:17:15.747660Z"
    }
   },
   "cell_type": "code",
   "source": "data.groupby(\"class\").count() / data.shape[0]",
   "id": "eab82a720d6bc59b",
   "outputs": [
    {
     "data": {
      "text/plain": [
       "              CAPE        DY        ts        IR      _OIL      _MKT  prev_ret\n",
       "class                                                                         \n",
       "momentum  0.501594  0.501594  0.501594  0.501594  0.501594  0.501594  0.501594\n",
       "reversal  0.498406  0.498406  0.498406  0.498406  0.498406  0.498406  0.497875"
      ],
      "text/html": [
       "<div>\n",
       "<style scoped>\n",
       "    .dataframe tbody tr th:only-of-type {\n",
       "        vertical-align: middle;\n",
       "    }\n",
       "\n",
       "    .dataframe tbody tr th {\n",
       "        vertical-align: top;\n",
       "    }\n",
       "\n",
       "    .dataframe thead th {\n",
       "        text-align: right;\n",
       "    }\n",
       "</style>\n",
       "<table border=\"1\" class=\"dataframe\">\n",
       "  <thead>\n",
       "    <tr style=\"text-align: right;\">\n",
       "      <th></th>\n",
       "      <th>CAPE</th>\n",
       "      <th>DY</th>\n",
       "      <th>ts</th>\n",
       "      <th>IR</th>\n",
       "      <th>_OIL</th>\n",
       "      <th>_MKT</th>\n",
       "      <th>prev_ret</th>\n",
       "    </tr>\n",
       "    <tr>\n",
       "      <th>class</th>\n",
       "      <th></th>\n",
       "      <th></th>\n",
       "      <th></th>\n",
       "      <th></th>\n",
       "      <th></th>\n",
       "      <th></th>\n",
       "      <th></th>\n",
       "    </tr>\n",
       "  </thead>\n",
       "  <tbody>\n",
       "    <tr>\n",
       "      <th>momentum</th>\n",
       "      <td>0.501594</td>\n",
       "      <td>0.501594</td>\n",
       "      <td>0.501594</td>\n",
       "      <td>0.501594</td>\n",
       "      <td>0.501594</td>\n",
       "      <td>0.501594</td>\n",
       "      <td>0.501594</td>\n",
       "    </tr>\n",
       "    <tr>\n",
       "      <th>reversal</th>\n",
       "      <td>0.498406</td>\n",
       "      <td>0.498406</td>\n",
       "      <td>0.498406</td>\n",
       "      <td>0.498406</td>\n",
       "      <td>0.498406</td>\n",
       "      <td>0.498406</td>\n",
       "      <td>0.497875</td>\n",
       "    </tr>\n",
       "  </tbody>\n",
       "</table>\n",
       "</div>"
      ]
     },
     "execution_count": 16,
     "metadata": {},
     "output_type": "execute_result"
    }
   ],
   "execution_count": 16
  },
  {
   "metadata": {},
   "cell_type": "code",
   "outputs": [],
   "execution_count": null,
   "source": "",
   "id": "c0158a1582de3e7b"
  }
 ],
 "metadata": {
  "kernelspec": {
   "display_name": "Python 3",
   "language": "python",
   "name": "python3"
  },
  "language_info": {
   "codemirror_mode": {
    "name": "ipython",
    "version": 2
   },
   "file_extension": ".py",
   "mimetype": "text/x-python",
   "name": "python",
   "nbconvert_exporter": "python",
   "pygments_lexer": "ipython2",
   "version": "2.7.6"
  }
 },
 "nbformat": 4,
 "nbformat_minor": 5
}
