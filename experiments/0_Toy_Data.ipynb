{
 "cells": [
  {
   "cell_type": "code",
   "id": "739b5b1005f276e9",
   "metadata": {
    "ExecuteTime": {
     "end_time": "2025-06-23T19:56:22.506185Z",
     "start_time": "2025-06-23T19:56:22.496945Z"
    }
   },
   "source": [
    "from __future__ import annotations\n",
    "\n",
    "%load_ext autoreload\n",
    "%autoreload 2"
   ],
   "outputs": [
    {
     "name": "stdout",
     "output_type": "stream",
     "text": [
      "The autoreload extension is already loaded. To reload it, use:\n",
      "  %reload_ext autoreload\n"
     ]
    }
   ],
   "execution_count": 73
  },
  {
   "cell_type": "code",
   "id": "initial_id",
   "metadata": {
    "collapsed": true,
    "ExecuteTime": {
     "end_time": "2025-06-23T19:56:22.516707Z",
     "start_time": "2025-06-23T19:56:22.508666Z"
    }
   },
   "source": [
    "import numpy as np\n",
    "import pandas as pd\n",
    "\n",
    "from config.experiment_config import ExperimentConfig\n",
    "\n",
    "config = ExperimentConfig()"
   ],
   "outputs": [],
   "execution_count": 74
  },
  {
   "cell_type": "code",
   "id": "4dd2a403b8130dfb",
   "metadata": {
    "ExecuteTime": {
     "end_time": "2025-06-23T19:56:22.724978Z",
     "start_time": "2025-06-23T19:56:22.529014Z"
    }
   },
   "source": [
    "market_data = pd.read_excel(config.PATH_INPUT / config.INPUT_DATA_FILENAME)\n",
    "market_data = market_data.rename(columns={\"Date\": \"date\"})\n",
    "market_data[\"date\"] = pd.to_datetime(market_data[\"date\"])\n",
    "market_data = market_data.set_index(\"date\")\n",
    "market_data[\"lagged_MKT\"] = market_data[\"_MKT\"]\n",
    "market_data.head()"
   ],
   "outputs": [
    {
     "data": {
      "text/plain": [
       "                 EMP    PE    CAPE    DY    Rho   MOV     IR     RR    Y02  \\\n",
       "date                                                                         \n",
       "1988-04-10  0.022086  12.9  14.469  3.60 -0.083  118.0  6.02 -1.061  7.459   \n",
       "1988-04-17  0.022086  12.4  13.960  3.75 -0.078  121.0  5.88 -0.760  7.582   \n",
       "1988-04-24  0.022086  12.4  13.950  3.75 -0.051  123.0  5.83 -0.760  7.618   \n",
       "1988-05-01  0.021941  12.5  14.036  3.75 -0.054  124.2  5.98 -0.760  7.728   \n",
       "1988-05-08  0.022104  12.3  13.761  3.82 -0.079  118.4  6.29 -0.760  7.885   \n",
       "\n",
       "              Y10  ...       NYF     _AU   _DXY    _LCP     _TY   _OIL  \\\n",
       "date               ...                                                   \n",
       "1988-04-10  8.484  ...  6.896895  450.50  89.14  2473.7  97.990  16.88   \n",
       "1988-04-17  8.737  ...  2.631749  456.25  88.31  2328.2  96.534  18.37   \n",
       "1988-04-24  8.773  ...  2.631749  449.25  88.89  2201.4  96.470  18.30   \n",
       "1988-05-01  8.873  ...  2.631749  449.00  89.16  2147.8  96.005  18.00   \n",
       "1988-05-08  8.990  ...  2.631749  443.00  89.30  2200.9  95.446  17.74   \n",
       "\n",
       "              _MKT      _VA      _GR  lagged_MKT  \n",
       "date                                              \n",
       "1988-04-10  419.06  823.219  462.551      419.06  \n",
       "1988-04-17  404.66  823.219  462.551      404.66  \n",
       "1988-04-24  404.71  823.219  462.551      404.71  \n",
       "1988-05-01  407.55  840.891  461.176      407.55  \n",
       "1988-05-08  401.29  840.891  461.176      401.29  \n",
       "\n",
       "[5 rows x 31 columns]"
      ],
      "text/html": [
       "<div>\n",
       "<style scoped>\n",
       "    .dataframe tbody tr th:only-of-type {\n",
       "        vertical-align: middle;\n",
       "    }\n",
       "\n",
       "    .dataframe tbody tr th {\n",
       "        vertical-align: top;\n",
       "    }\n",
       "\n",
       "    .dataframe thead th {\n",
       "        text-align: right;\n",
       "    }\n",
       "</style>\n",
       "<table border=\"1\" class=\"dataframe\">\n",
       "  <thead>\n",
       "    <tr style=\"text-align: right;\">\n",
       "      <th></th>\n",
       "      <th>EMP</th>\n",
       "      <th>PE</th>\n",
       "      <th>CAPE</th>\n",
       "      <th>DY</th>\n",
       "      <th>Rho</th>\n",
       "      <th>MOV</th>\n",
       "      <th>IR</th>\n",
       "      <th>RR</th>\n",
       "      <th>Y02</th>\n",
       "      <th>Y10</th>\n",
       "      <th>...</th>\n",
       "      <th>NYF</th>\n",
       "      <th>_AU</th>\n",
       "      <th>_DXY</th>\n",
       "      <th>_LCP</th>\n",
       "      <th>_TY</th>\n",
       "      <th>_OIL</th>\n",
       "      <th>_MKT</th>\n",
       "      <th>_VA</th>\n",
       "      <th>_GR</th>\n",
       "      <th>lagged_MKT</th>\n",
       "    </tr>\n",
       "    <tr>\n",
       "      <th>date</th>\n",
       "      <th></th>\n",
       "      <th></th>\n",
       "      <th></th>\n",
       "      <th></th>\n",
       "      <th></th>\n",
       "      <th></th>\n",
       "      <th></th>\n",
       "      <th></th>\n",
       "      <th></th>\n",
       "      <th></th>\n",
       "      <th></th>\n",
       "      <th></th>\n",
       "      <th></th>\n",
       "      <th></th>\n",
       "      <th></th>\n",
       "      <th></th>\n",
       "      <th></th>\n",
       "      <th></th>\n",
       "      <th></th>\n",
       "      <th></th>\n",
       "      <th></th>\n",
       "    </tr>\n",
       "  </thead>\n",
       "  <tbody>\n",
       "    <tr>\n",
       "      <th>1988-04-10</th>\n",
       "      <td>0.022086</td>\n",
       "      <td>12.9</td>\n",
       "      <td>14.469</td>\n",
       "      <td>3.60</td>\n",
       "      <td>-0.083</td>\n",
       "      <td>118.0</td>\n",
       "      <td>6.02</td>\n",
       "      <td>-1.061</td>\n",
       "      <td>7.459</td>\n",
       "      <td>8.484</td>\n",
       "      <td>...</td>\n",
       "      <td>6.896895</td>\n",
       "      <td>450.50</td>\n",
       "      <td>89.14</td>\n",
       "      <td>2473.7</td>\n",
       "      <td>97.990</td>\n",
       "      <td>16.88</td>\n",
       "      <td>419.06</td>\n",
       "      <td>823.219</td>\n",
       "      <td>462.551</td>\n",
       "      <td>419.06</td>\n",
       "    </tr>\n",
       "    <tr>\n",
       "      <th>1988-04-17</th>\n",
       "      <td>0.022086</td>\n",
       "      <td>12.4</td>\n",
       "      <td>13.960</td>\n",
       "      <td>3.75</td>\n",
       "      <td>-0.078</td>\n",
       "      <td>121.0</td>\n",
       "      <td>5.88</td>\n",
       "      <td>-0.760</td>\n",
       "      <td>7.582</td>\n",
       "      <td>8.737</td>\n",
       "      <td>...</td>\n",
       "      <td>2.631749</td>\n",
       "      <td>456.25</td>\n",
       "      <td>88.31</td>\n",
       "      <td>2328.2</td>\n",
       "      <td>96.534</td>\n",
       "      <td>18.37</td>\n",
       "      <td>404.66</td>\n",
       "      <td>823.219</td>\n",
       "      <td>462.551</td>\n",
       "      <td>404.66</td>\n",
       "    </tr>\n",
       "    <tr>\n",
       "      <th>1988-04-24</th>\n",
       "      <td>0.022086</td>\n",
       "      <td>12.4</td>\n",
       "      <td>13.950</td>\n",
       "      <td>3.75</td>\n",
       "      <td>-0.051</td>\n",
       "      <td>123.0</td>\n",
       "      <td>5.83</td>\n",
       "      <td>-0.760</td>\n",
       "      <td>7.618</td>\n",
       "      <td>8.773</td>\n",
       "      <td>...</td>\n",
       "      <td>2.631749</td>\n",
       "      <td>449.25</td>\n",
       "      <td>88.89</td>\n",
       "      <td>2201.4</td>\n",
       "      <td>96.470</td>\n",
       "      <td>18.30</td>\n",
       "      <td>404.71</td>\n",
       "      <td>823.219</td>\n",
       "      <td>462.551</td>\n",
       "      <td>404.71</td>\n",
       "    </tr>\n",
       "    <tr>\n",
       "      <th>1988-05-01</th>\n",
       "      <td>0.021941</td>\n",
       "      <td>12.5</td>\n",
       "      <td>14.036</td>\n",
       "      <td>3.75</td>\n",
       "      <td>-0.054</td>\n",
       "      <td>124.2</td>\n",
       "      <td>5.98</td>\n",
       "      <td>-0.760</td>\n",
       "      <td>7.728</td>\n",
       "      <td>8.873</td>\n",
       "      <td>...</td>\n",
       "      <td>2.631749</td>\n",
       "      <td>449.00</td>\n",
       "      <td>89.16</td>\n",
       "      <td>2147.8</td>\n",
       "      <td>96.005</td>\n",
       "      <td>18.00</td>\n",
       "      <td>407.55</td>\n",
       "      <td>840.891</td>\n",
       "      <td>461.176</td>\n",
       "      <td>407.55</td>\n",
       "    </tr>\n",
       "    <tr>\n",
       "      <th>1988-05-08</th>\n",
       "      <td>0.022104</td>\n",
       "      <td>12.3</td>\n",
       "      <td>13.761</td>\n",
       "      <td>3.82</td>\n",
       "      <td>-0.079</td>\n",
       "      <td>118.4</td>\n",
       "      <td>6.29</td>\n",
       "      <td>-0.760</td>\n",
       "      <td>7.885</td>\n",
       "      <td>8.990</td>\n",
       "      <td>...</td>\n",
       "      <td>2.631749</td>\n",
       "      <td>443.00</td>\n",
       "      <td>89.30</td>\n",
       "      <td>2200.9</td>\n",
       "      <td>95.446</td>\n",
       "      <td>17.74</td>\n",
       "      <td>401.29</td>\n",
       "      <td>840.891</td>\n",
       "      <td>461.176</td>\n",
       "      <td>401.29</td>\n",
       "    </tr>\n",
       "  </tbody>\n",
       "</table>\n",
       "<p>5 rows × 31 columns</p>\n",
       "</div>"
      ]
     },
     "execution_count": 75,
     "metadata": {},
     "output_type": "execute_result"
    }
   ],
   "execution_count": 75
  },
  {
   "cell_type": "code",
   "id": "a0870afb1c7021b2",
   "metadata": {
    "ExecuteTime": {
     "end_time": "2025-06-23T19:56:22.757721Z",
     "start_time": "2025-06-23T19:56:22.748907Z"
    }
   },
   "source": [
    "from ipsqt.market_data.risk_free_conventions import accrue_risk_free_rate"
   ],
   "outputs": [],
   "execution_count": 76
  },
  {
   "cell_type": "code",
   "id": "f183242ecc5e1ebf",
   "metadata": {
    "ExecuteTime": {
     "end_time": "2025-06-23T20:10:20.324715Z",
     "start_time": "2025-06-23T20:10:20.305526Z"
    }
   },
   "source": [
    "FEATURES = [\"CAPE\", \"STP\", \"DIL\"]\n",
    "NOT_DIFF = [\"_MKT\", \"IR\", \"STP\", \"DIL\", \"MKT_Factor\"]\n",
    "\n",
    "data = market_data[FEATURES + [\"IR\", \"_MKT\"]]\n",
    "# data[\"lagged_MKT\"] = data[\"_MKT\"]\n",
    "data[\"_MKT\"] = data[\"_MKT\"].pct_change()\n",
    "data[\"IR\"] = data[\"IR\"] / 100 / 360\n",
    "data[\"IR\"] = accrue_risk_free_rate(data[\"IR\"])\n",
    "data[\"MKT_Factor\"] = data[\"_MKT\"] - data[\"IR\"]\n",
    "# data[data.columns.difference(NOT_DIFF)] = np.log(\n",
    "#     data[data.columns.difference(NOT_DIFF)]\n",
    "# ).diff()\n",
    "data.iloc[1:].to_csv(config.PATH_OUTPUT / config.DF_FILENAME)"
   ],
   "outputs": [
    {
     "name": "stderr",
     "output_type": "stream",
     "text": [
      "/var/folders/sr/lzvmv9j54ks_jl4x99t250r00000gn/T/ipykernel_17739/3004234346.py:6: SettingWithCopyWarning: \n",
      "A value is trying to be set on a copy of a slice from a DataFrame.\n",
      "Try using .loc[row_indexer,col_indexer] = value instead\n",
      "\n",
      "See the caveats in the documentation: https://pandas.pydata.org/pandas-docs/stable/user_guide/indexing.html#returning-a-view-versus-a-copy\n",
      "  data[\"_MKT\"] = data[\"_MKT\"].pct_change()\n",
      "/var/folders/sr/lzvmv9j54ks_jl4x99t250r00000gn/T/ipykernel_17739/3004234346.py:7: SettingWithCopyWarning: \n",
      "A value is trying to be set on a copy of a slice from a DataFrame.\n",
      "Try using .loc[row_indexer,col_indexer] = value instead\n",
      "\n",
      "See the caveats in the documentation: https://pandas.pydata.org/pandas-docs/stable/user_guide/indexing.html#returning-a-view-versus-a-copy\n",
      "  data[\"IR\"] = data[\"IR\"] / 100 / 360\n",
      "/var/folders/sr/lzvmv9j54ks_jl4x99t250r00000gn/T/ipykernel_17739/3004234346.py:8: SettingWithCopyWarning: \n",
      "A value is trying to be set on a copy of a slice from a DataFrame.\n",
      "Try using .loc[row_indexer,col_indexer] = value instead\n",
      "\n",
      "See the caveats in the documentation: https://pandas.pydata.org/pandas-docs/stable/user_guide/indexing.html#returning-a-view-versus-a-copy\n",
      "  data[\"IR\"] = accrue_risk_free_rate(data[\"IR\"])\n",
      "/var/folders/sr/lzvmv9j54ks_jl4x99t250r00000gn/T/ipykernel_17739/3004234346.py:9: SettingWithCopyWarning: \n",
      "A value is trying to be set on a copy of a slice from a DataFrame.\n",
      "Try using .loc[row_indexer,col_indexer] = value instead\n",
      "\n",
      "See the caveats in the documentation: https://pandas.pydata.org/pandas-docs/stable/user_guide/indexing.html#returning-a-view-versus-a-copy\n",
      "  data[\"MKT_Factor\"] = data[\"_MKT\"] - data[\"IR\"]\n"
     ]
    }
   ],
   "execution_count": 93
  },
  {
   "metadata": {
    "ExecuteTime": {
     "end_time": "2025-06-23T20:00:08.268732Z",
     "start_time": "2025-06-23T20:00:08.258470Z"
    }
   },
   "cell_type": "code",
   "source": "data",
   "id": "76496fcb86361fc4",
   "outputs": [
    {
     "data": {
      "text/plain": [
       "                  IR      _MKT  MKT_Factor  lagged_MKT\n",
       "date                                                  \n",
       "1988-04-10       NaN       NaN         NaN         NaN\n",
       "1988-04-17  0.001143 -0.034363   -0.035506   -0.034363\n",
       "1988-04-24  0.001134  0.000124   -0.001010    0.000124\n",
       "1988-05-01  0.001163  0.007017    0.005855    0.007017\n",
       "1988-05-08  0.001223 -0.015360   -0.016583   -0.015360\n",
       "...              ...       ...         ...         ...\n",
       "2024-04-07  0.001043 -0.009351   -0.010394   -0.009351\n",
       "2024-04-14  0.001047 -0.016173   -0.017220   -0.016173\n",
       "2024-04-21  0.001049 -0.030627   -0.031676   -0.030627\n",
       "2024-04-28  0.001049  0.027770    0.026721    0.027770\n",
       "2024-05-05  0.001047  0.006182    0.005135    0.006182\n",
       "\n",
       "[1883 rows x 4 columns]"
      ],
      "text/html": [
       "<div>\n",
       "<style scoped>\n",
       "    .dataframe tbody tr th:only-of-type {\n",
       "        vertical-align: middle;\n",
       "    }\n",
       "\n",
       "    .dataframe tbody tr th {\n",
       "        vertical-align: top;\n",
       "    }\n",
       "\n",
       "    .dataframe thead th {\n",
       "        text-align: right;\n",
       "    }\n",
       "</style>\n",
       "<table border=\"1\" class=\"dataframe\">\n",
       "  <thead>\n",
       "    <tr style=\"text-align: right;\">\n",
       "      <th></th>\n",
       "      <th>IR</th>\n",
       "      <th>_MKT</th>\n",
       "      <th>MKT_Factor</th>\n",
       "      <th>lagged_MKT</th>\n",
       "    </tr>\n",
       "    <tr>\n",
       "      <th>date</th>\n",
       "      <th></th>\n",
       "      <th></th>\n",
       "      <th></th>\n",
       "      <th></th>\n",
       "    </tr>\n",
       "  </thead>\n",
       "  <tbody>\n",
       "    <tr>\n",
       "      <th>1988-04-10</th>\n",
       "      <td>NaN</td>\n",
       "      <td>NaN</td>\n",
       "      <td>NaN</td>\n",
       "      <td>NaN</td>\n",
       "    </tr>\n",
       "    <tr>\n",
       "      <th>1988-04-17</th>\n",
       "      <td>0.001143</td>\n",
       "      <td>-0.034363</td>\n",
       "      <td>-0.035506</td>\n",
       "      <td>-0.034363</td>\n",
       "    </tr>\n",
       "    <tr>\n",
       "      <th>1988-04-24</th>\n",
       "      <td>0.001134</td>\n",
       "      <td>0.000124</td>\n",
       "      <td>-0.001010</td>\n",
       "      <td>0.000124</td>\n",
       "    </tr>\n",
       "    <tr>\n",
       "      <th>1988-05-01</th>\n",
       "      <td>0.001163</td>\n",
       "      <td>0.007017</td>\n",
       "      <td>0.005855</td>\n",
       "      <td>0.007017</td>\n",
       "    </tr>\n",
       "    <tr>\n",
       "      <th>1988-05-08</th>\n",
       "      <td>0.001223</td>\n",
       "      <td>-0.015360</td>\n",
       "      <td>-0.016583</td>\n",
       "      <td>-0.015360</td>\n",
       "    </tr>\n",
       "    <tr>\n",
       "      <th>...</th>\n",
       "      <td>...</td>\n",
       "      <td>...</td>\n",
       "      <td>...</td>\n",
       "      <td>...</td>\n",
       "    </tr>\n",
       "    <tr>\n",
       "      <th>2024-04-07</th>\n",
       "      <td>0.001043</td>\n",
       "      <td>-0.009351</td>\n",
       "      <td>-0.010394</td>\n",
       "      <td>-0.009351</td>\n",
       "    </tr>\n",
       "    <tr>\n",
       "      <th>2024-04-14</th>\n",
       "      <td>0.001047</td>\n",
       "      <td>-0.016173</td>\n",
       "      <td>-0.017220</td>\n",
       "      <td>-0.016173</td>\n",
       "    </tr>\n",
       "    <tr>\n",
       "      <th>2024-04-21</th>\n",
       "      <td>0.001049</td>\n",
       "      <td>-0.030627</td>\n",
       "      <td>-0.031676</td>\n",
       "      <td>-0.030627</td>\n",
       "    </tr>\n",
       "    <tr>\n",
       "      <th>2024-04-28</th>\n",
       "      <td>0.001049</td>\n",
       "      <td>0.027770</td>\n",
       "      <td>0.026721</td>\n",
       "      <td>0.027770</td>\n",
       "    </tr>\n",
       "    <tr>\n",
       "      <th>2024-05-05</th>\n",
       "      <td>0.001047</td>\n",
       "      <td>0.006182</td>\n",
       "      <td>0.005135</td>\n",
       "      <td>0.006182</td>\n",
       "    </tr>\n",
       "  </tbody>\n",
       "</table>\n",
       "<p>1883 rows × 4 columns</p>\n",
       "</div>"
      ]
     },
     "execution_count": 92,
     "metadata": {},
     "output_type": "execute_result"
    }
   ],
   "execution_count": 92
  },
  {
   "metadata": {
    "ExecuteTime": {
     "end_time": "2025-06-23T19:56:22.871026Z",
     "start_time": "2025-06-23T19:56:22.810328Z"
    }
   },
   "cell_type": "code",
   "source": [
    "from sklearn.preprocessing import StandardScaler\n",
    "\n",
    "ss = StandardScaler()\n",
    "d = ss.fit_transform(data[[\"DIL\"]])\n",
    "d = pd.DataFrame(d, index=data.index, columns=[\"DIL\"])\n",
    "\n",
    "d.plot();"
   ],
   "id": "3e0ef229bfd5f9c4",
   "outputs": [
    {
     "data": {
      "text/plain": [
       "<Figure size 640x480 with 1 Axes>"
      ],
      "image/png": "[encoded data removed]"
     },
     "metadata": {},
     "output_type": "display_data"
    }
   ],
   "execution_count": 78
  },
  {
   "metadata": {
    "ExecuteTime": {
     "end_time": "2025-06-23T19:56:22.938973Z",
     "start_time": "2025-06-23T19:56:22.882919Z"
    }
   },
   "cell_type": "code",
   "source": "np.log(data[\"STP\"]).diff().plot();",
   "id": "f4ef506a39c858f8",
   "outputs": [
    {
     "name": "stderr",
     "output_type": "stream",
     "text": [
      "/Users/buchkovv/ipsqt/.venv/lib/python3.12/site-packages/pandas/core/arraylike.py:399: RuntimeWarning: divide by zero encountered in log\n",
      "  result = getattr(ufunc, method)(*inputs, **kwargs)\n",
      "/Users/buchkovv/ipsqt/.venv/lib/python3.12/site-packages/pandas/core/arraylike.py:399: RuntimeWarning: invalid value encountered in log\n",
      "  result = getattr(ufunc, method)(*inputs, **kwargs)\n"
     ]
    },
    {
     "data": {
      "text/plain": [
       "<Figure size 640x480 with 1 Axes>"
      ],
      "image/png": "[encoded data removed]"
     },
     "metadata": {},
     "output_type": "display_data"
    }
   ],
   "execution_count": 79
  },
  {
   "cell_type": "code",
   "id": "4bdeda0f53da69d3",
   "metadata": {
    "ExecuteTime": {
     "end_time": "2025-06-23T19:56:22.958917Z",
     "start_time": "2025-06-23T19:56:22.950624Z"
    }
   },
   "source": [
    "# market_data[\"_MKT\"].apply(lambda x: 1).to_csv(\n",
    "#     config.PATH_OUTPUT / config.PRESENCE_MATRIX_FILENAME\n",
    "# )"
   ],
   "outputs": [],
   "execution_count": 80
  },
  {
   "cell_type": "code",
   "id": "ed4a5ee2acf6ff89",
   "metadata": {
    "ExecuteTime": {
     "end_time": "2025-06-23T19:56:22.969681Z",
     "start_time": "2025-06-23T19:56:22.968418Z"
    }
   },
   "source": [],
   "outputs": [],
   "execution_count": null
  }
 ],
 "metadata": {
  "kernelspec": {
   "display_name": "Python 3",
   "language": "python",
   "name": "python3"
  },
  "language_info": {
   "codemirror_mode": {
    "name": "ipython",
    "version": 2
   },
   "file_extension": ".py",
   "mimetype": "text/x-python",
   "name": "python",
   "nbconvert_exporter": "python",
   "pygments_lexer": "ipython2",
   "version": "2.7.6"
  }
 },
 "nbformat": 4,
 "nbformat_minor": 5
}
